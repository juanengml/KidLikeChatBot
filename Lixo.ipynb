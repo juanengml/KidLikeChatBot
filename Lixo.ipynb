{
 "cells": [
  {
   "cell_type": "code",
   "execution_count": 72,
   "metadata": {},
   "outputs": [],
   "source": [
    "df = open(\"faqset.txt\").read()"
   ]
  },
  {
   "cell_type": "code",
   "execution_count": 73,
   "metadata": {},
   "outputs": [],
   "source": [
    "df2 = df.split(\"?\")"
   ]
  },
  {
   "cell_type": "code",
   "execution_count": 75,
   "metadata": {},
   "outputs": [],
   "source": [
    "df3 = \",\".join(df2)"
   ]
  },
  {
   "cell_type": "code",
   "execution_count": 76,
   "metadata": {},
   "outputs": [
    {
     "name": "stdout",
     "output_type": "stream",
     "text": [
      "1\n",
      "None\n",
      "\n",
      "2\n",
      "None\n",
      "\n",
      "3\n",
      "None\n",
      "\n",
      "4\n",
      "None\n",
      "\n",
      "5\n",
      "None\n",
      "\n",
      "6\n",
      "None\n",
      "\n",
      "7\n",
      "None\n",
      "\n",
      "8\n",
      "None\n",
      "\n",
      "9\n",
      "None\n",
      "\n",
      "1\n",
      "None\n",
      "\n",
      "\n",
      "1\n",
      "None\n",
      "\n",
      "\n",
      "1\n",
      "None\n",
      "\n",
      "1\n",
      "None\n",
      "\n"
     ]
    }
   ],
   "source": [
    "posicoes = []\n",
    "for p in range(len(df)):\n",
    "    try: \n",
    "        if int(df[p]):\n",
    "            print df[p]\n",
    "            print posicoes.append(df.find(df[p]))\n",
    "        print\n",
    "    except:\n",
    "        pass"
   ]
  },
  {
   "cell_type": "code",
   "execution_count": 78,
   "metadata": {},
   "outputs": [
    {
     "name": "stdout",
     "output_type": "stream",
     "text": [
      "1. O que é o PPGEL? Qual é o seu objetivo?\n",
      "\n",
      "O Programa de Pós-Graduação em Estudos de Linguagens da UTFPR, câmpus Curitiba, tem o objetivo de formar profissionais capazes de compreender como diferentes linguagens se articulam com a tecnologia. Espera-se que o egresso consiga analisar os diferentes modos de produção de sentido nas mais variadas esferas de interação humana, como a Língua, a Literatura e a Comunicação, podendo atuar nas áreas de pesquisa, ensino e em comunicação social. Nesse sentido, o egresso terá como diferencial a experiência em disciplinas e grupos de pesquisa que entendem a linguagem como ponto central nos processos interacionais, propiciando aos discentes uma visão crítica e reflexiva sobre a interface entre tecnologia e linguagens. Conheça a área de concentração e as linhas de pesquisa AQUI.\n",
      "\n",
      " \n",
      "\n",
      "\n"
     ]
    }
   ],
   "source": [
    "print df[0:853]"
   ]
  },
  {
   "cell_type": "code",
   "execution_count": 79,
   "metadata": {},
   "outputs": [
    {
     "name": "stdout",
     "output_type": "stream",
     "text": [
      "[0, 853, 988, 1285, 1702, 2303, 2767, 3263, 3364, 0, 0, 0, 0]\n"
     ]
    }
   ],
   "source": [
    "print posicoes"
   ]
  },
  {
   "cell_type": "code",
   "execution_count": 80,
   "metadata": {},
   "outputs": [],
   "source": [
    "df4 = []"
   ]
  },
  {
   "cell_type": "code",
   "execution_count": 81,
   "metadata": {},
   "outputs": [],
   "source": [
    "for p in range(9):\n",
    "    dado = df[posicoes[p]:posicoes[p+1]]\n",
    "    df4.append(dado)"
   ]
  },
  {
   "cell_type": "code",
   "execution_count": 89,
   "metadata": {},
   "outputs": [],
   "source": [
    "final = []\n",
    "for p in range(len(df4)):\n",
    "    final.append(df4[p].split(\"?\"))"
   ]
  },
  {
   "cell_type": "code",
   "execution_count": 101,
   "metadata": {},
   "outputs": [
    {
     "data": {
      "text/plain": [
       "'\\n\\nO Programa de P\\xc3\\xb3s-Gradua\\xc3\\xa7\\xc3\\xa3o em Estudos de Linguagens da UTFPR, c\\xc3\\xa2mpus Curitiba, tem o objetivo de formar profissionais capazes de compreender como diferentes linguagens se articulam com a tecnologia. Espera-se que o egresso consiga analisar os diferentes modos de produ\\xc3\\xa7\\xc3\\xa3o de sentido nas mais variadas esferas de intera\\xc3\\xa7\\xc3\\xa3o humana, como a L\\xc3\\xadngua, a Literatura e a Comunica\\xc3\\xa7\\xc3\\xa3o, podendo atuar nas \\xc3\\xa1reas de pesquisa, ensino e em comunica\\xc3\\xa7\\xc3\\xa3o social. Nesse sentido, o egresso ter\\xc3\\xa1 como diferencial a experi\\xc3\\xaancia em disciplinas e grupos de pesquisa que entendem a linguagem como ponto central nos processos interacionais, propiciando aos discentes uma vis\\xc3\\xa3o cr\\xc3\\xadtica e reflexiva sobre a interface entre tecnologia e linguagens. Conhe\\xc3\\xa7a a \\xc3\\xa1rea de concentra\\xc3\\xa7\\xc3\\xa3o e as linhas de pesquisa AQUI.\\n\\n \\n\\n'"
      ]
     },
     "execution_count": 101,
     "metadata": {},
     "output_type": "execute_result"
    }
   ],
   "source": [
    "final[0][2]"
   ]
  },
  {
   "cell_type": "code",
   "execution_count": null,
   "metadata": {},
   "outputs": [],
   "source": []
  }
 ],
 "metadata": {
  "kernelspec": {
   "display_name": "Python 2",
   "language": "python",
   "name": "python2"
  },
  "language_info": {
   "codemirror_mode": {
    "name": "ipython",
    "version": 2
   },
   "file_extension": ".py",
   "mimetype": "text/x-python",
   "name": "python",
   "nbconvert_exporter": "python",
   "pygments_lexer": "ipython2",
   "version": "2.7.15rc1"
  }
 },
 "nbformat": 4,
 "nbformat_minor": 2
}
