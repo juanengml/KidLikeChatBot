{
 "cells": [
  {
   "cell_type": "code",
   "execution_count": 39,
   "metadata": {},
   "outputs": [],
   "source": [
    "from chatterbot.trainers import ListTrainer\n",
    "from chatterbot import ChatBot\n",
    "import pandas as pd"
   ]
  },
  {
   "cell_type": "code",
   "execution_count": 40,
   "metadata": {},
   "outputs": [],
   "source": [
    "#df = pd.read_csv(\"dados.csv\")\n",
    "df = open(\"dados.csv\").read()"
   ]
  },
  {
   "cell_type": "code",
   "execution_count": 41,
   "metadata": {},
   "outputs": [],
   "source": [
    "bot = ChatBot(\"home\")"
   ]
  },
  {
   "cell_type": "code",
   "execution_count": 42,
   "metadata": {},
   "outputs": [],
   "source": [
    "bot.set_trainer(ListTrainer)"
   ]
  },
  {
   "cell_type": "code",
   "execution_count": 43,
   "metadata": {},
   "outputs": [],
   "source": [
    "df = df.split(\"\\n\")\n"
   ]
  },
  {
   "cell_type": "code",
   "execution_count": 44,
   "metadata": {},
   "outputs": [
    {
     "name": "stdout",
     "output_type": "stream",
     "text": [
      "List Trainer: [####################] 100%\n"
     ]
    }
   ],
   "source": [
    "bot.train(df)"
   ]
  },
  {
   "cell_type": "code",
   "execution_count": null,
   "metadata": {},
   "outputs": [
    {
     "name": "stdout",
     "output_type": "stream",
     "text": [
      "Você: Oi\n",
      "Jaime:  tudo bom?\n",
      "Você: Sim e você ?\n",
      "Jaime:  qual seu nome ?\n",
      "Você: Debora\n",
      "Jaime:  minuto\n",
      "Você: nao entendi\n",
      "Jaime:  Calma vou ler aqui é ja te falo, pronto,\n",
      "Você: o que você leu?\n",
      "Jaime:  iniciar sequência de teste no escravo\n",
      "Você: que escrevo?\n",
      "Jaime:  jarvis o que você sabe sobre\n",
      "Você: o que ?\n",
      "Jaime:  ok, ja liguei luz\n",
      "Você: desligar luz\n",
      "Jaime:  tá escuro aqui\n",
      "Você: está muito claro\n",
      "Jaime:  Ligar ventilador\n",
      "Você: evitar gastar energia \n",
      "Jaime: Não entendi\n"
     ]
    }
   ],
   "source": [
    "while True:\n",
    "    quest = input(\"Você: \")\n",
    "    response = bot.get_response(quest)\n",
    "    if float(response.confidence) > 0.5:\n",
    "       print(\"Jaime: \", response)\n",
    "    else:print(\"Jaime: Não entendi\")\n",
    "    "
   ]
  },
  {
   "cell_type": "code",
   "execution_count": null,
   "metadata": {},
   "outputs": [],
   "source": []
  },
  {
   "cell_type": "raw",
   "metadata": {},
   "source": []
  },
  {
   "cell_type": "code",
   "execution_count": null,
   "metadata": {},
   "outputs": [],
   "source": []
  },
  {
   "cell_type": "code",
   "execution_count": null,
   "metadata": {
    "collapsed": true
   },
   "outputs": [],
   "source": []
  }
 ],
 "metadata": {
  "kernelspec": {
   "display_name": "Python 3",
   "language": "python",
   "name": "python3"
  },
  "language_info": {
   "codemirror_mode": {
    "name": "ipython",
    "version": 3
   },
   "file_extension": ".py",
   "mimetype": "text/x-python",
   "name": "python",
   "nbconvert_exporter": "python",
   "pygments_lexer": "ipython3",
   "version": "3.6.5"
  }
 },
 "nbformat": 4,
 "nbformat_minor": 2
}
