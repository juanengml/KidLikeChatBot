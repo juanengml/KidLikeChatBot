{
 "cells": [
  {
   "cell_type": "code",
   "execution_count": 21,
   "metadata": {},
   "outputs": [],
   "source": [
    "df = open(\"faqset.txt\").read()"
   ]
  },
  {
   "cell_type": "code",
   "execution_count": 4,
   "metadata": {},
   "outputs": [],
   "source": [
    "df2 = df.split(\"?\")"
   ]
  },
  {
   "cell_type": "code",
   "execution_count": 25,
   "metadata": {},
   "outputs": [],
   "source": [
    "df3 = \",\".join(df2)"
   ]
  },
  {
   "cell_type": "code",
   "execution_count": 32,
   "metadata": {},
   "outputs": [
    {
     "name": "stdout",
     "output_type": "stream",
     "text": [
      "1\n",
      "None\n",
      "\n",
      "2\n",
      "None\n",
      "\n",
      "3\n",
      "None\n",
      "\n",
      "4\n",
      "None\n",
      "\n",
      "5\n",
      "None\n",
      "\n",
      "6\n",
      "None\n",
      "\n",
      "7\n",
      "None\n",
      "\n",
      "8\n",
      "None\n",
      "\n",
      "9\n",
      "None\n",
      "\n",
      "1\n",
      "None\n",
      "\n",
      "\n",
      "1\n",
      "None\n",
      "\n",
      "\n",
      "1\n",
      "None\n",
      "\n",
      "1\n",
      "None\n",
      "\n"
     ]
    }
   ],
   "source": [
    "posicoes = []\n",
    "for p in range(len(df)):\n",
    "    try: \n",
    "        if int(df[p]):\n",
    "            print df[p]\n",
    "            print posicoes.append(df.find(df[p]))\n",
    "        print\n",
    "    except:\n",
    "        pass"
   ]
  },
  {
   "cell_type": "code",
   "execution_count": 31,
   "metadata": {},
   "outputs": [
    {
     "name": "stdout",
     "output_type": "stream",
     "text": [
      "1. O que é o PPGEL? Qual é o seu objetivo?\n",
      "\n",
      "O Programa de Pós-Graduação em Estudos de Linguagens da UTFPR, câmpus Curitiba, tem o objetivo de formar profissionais capazes de compreender como diferentes linguagens se articulam com a tecnologia. Espera-se que o egresso consiga analisar os diferentes modos de produção de sentido nas mais variadas esferas de interação humana, como a Língua, a Literatura e a Comunicação, podendo atuar nas áreas de pesquisa, ensino e em comunicação social. Nesse sentido, o egresso terá como diferencial a experiência em disciplinas e grupos de pesquisa que entendem a linguagem como ponto central nos processos interacionais, propiciando aos discentes uma visão crítica e reflexiva sobre a interface entre tecnologia e linguagens. Conheça a área de concentração e as linhas de pesquisa AQUI.\n",
      "\n",
      " \n",
      "\n",
      "2\n"
     ]
    }
   ],
   "source": [
    "print df[0:85]"
   ]
  },
  {
   "cell_type": "code",
   "execution_count": 33,
   "metadata": {},
   "outputs": [
    {
     "name": "stdout",
     "output_type": "stream",
     "text": [
      "[0, 853, 988, 1285, 1702, 2303, 2767, 3263, 3364, 0, 0, 0, 0]\n"
     ]
    }
   ],
   "source": [
    "print posicoes"
   ]
  },
  {
   "cell_type": "code",
   "execution_count": 51,
   "metadata": {},
   "outputs": [],
   "source": [
    "df4 = []"
   ]
  },
  {
   "cell_type": "code",
   "execution_count": 56,
   "metadata": {},
   "outputs": [],
   "source": [
    "for p in range(9):\n",
    "    dado = df[posicoes[p]:posicoes[p+1]]\n",
    "    df4.append(dado)"
   ]
  },
  {
   "cell_type": "code",
   "execution_count": 57,
   "metadata": {},
   "outputs": [
    {
     "name": "stdout",
     "output_type": "stream",
     "text": [
      "['1. O que \\xc3\\xa9 o PPGEL? Qual \\xc3\\xa9 o seu objetivo?\\n\\nO Programa de P\\xc3\\xb3s-Gradua\\xc3\\xa7\\xc3\\xa3o em Estudos de Linguagens da UTFPR, c\\xc3\\xa2mpus Curitiba, tem o objetivo de formar profissionais capazes de compreender como diferentes linguagens se articulam com a tecnologia. Espera-se que o egresso consiga analisar os diferentes modos de produ\\xc3\\xa7\\xc3\\xa3o de sentido nas mais variadas esferas de intera\\xc3\\xa7\\xc3\\xa3o humana, como a L\\xc3\\xadngua, a Literatura e a Comunica\\xc3\\xa7\\xc3\\xa3o, podendo atuar nas \\xc3\\xa1reas de pesquisa, ensino e em comunica\\xc3\\xa7\\xc3\\xa3o social. Nesse sentido, o egresso ter\\xc3\\xa1 como diferencial a experi\\xc3\\xaancia em disciplinas e grupos de pesquisa que entendem a linguagem como ponto central nos processos interacionais, propiciando aos discentes uma vis\\xc3\\xa3o cr\\xc3\\xadtica e reflexiva sobre a interface entre tecnologia e linguagens. Conhe\\xc3\\xa7a a \\xc3\\xa1rea de concentra\\xc3\\xa7\\xc3\\xa3o e as linhas de pesquisa AQUI.\\n\\n \\n\\n', '2. O Curso \\xc3\\xa9 gratuito?\\n\\nSim, PPGEL \\xc3\\xa9 inteiramente gratuito, ofertado para todos aqueles que j\\xc3\\xa1 t\\xc3\\xaam uma gradua\\xc3\\xa7\\xc3\\xa3o conclu\\xc3\\xadda.\\n\\n \\n\\n', '3. O PPGEL oferece bolsas?\\n\\nO PPGEL conta com um n\\xc3\\xbamero limitado de bolsas (duas), de modo que a maioria dos alunos precisar\\xc3\\xa1 cursar o programa sem ajudas de custos. A sele\\xc3\\xa7\\xc3\\xa3o dos bolsistas segue os crit\\xc3\\xa9rios estabelecidos no Regulamento e na Comiss\\xc3\\xa3o de Sele\\xc3\\xa7\\xc3\\xa3o e Bolsas do Programa.\\n\\n \\n\\n', '4. Quero ser aluno do PPGEL. Por onde come\\xc3\\xa7o?\\n\\nEm primeiro lugar, prepare-se para o processo seletivo, seguindo as especifica\\xc3\\xa7\\xc3\\xb5es para isso, conforme indica\\xc3\\xa7\\xc3\\xa3o de editais e exemplos de provas anteriores. Depois, veja o que os DOCENTES est\\xc3\\xa3o pesquisando; verifique em quais linha e projeto sua proposta de pesquisa se encaixa, a fim de que seu projeto tenha coer\\xc3\\xaancia com as linhas de pesquisa do Programa.\\n\\n \\n\\n', '5. Como funciona o processo seletivo?\\n\\nO processo seletivo ocorre geralmente em meados de setembro, anualmente. \\xc3\\x89 realizada uma prova escrita, com quest\\xc3\\xb5es discursivas, fundamentadas na bibliografia recomendada para a prova. \\xc3\\x89 indispens\\xc3\\xa1vel que o candidato leia tais obras, al\\xc3\\xa9m de outras da \\xc3\\xa1rea, para estabelecer reflex\\xc3\\xb5es pertinentes com o que se espera de um aluno de p\\xc3\\xb3s-gradua\\xc3\\xa7\\xc3\\xa3o. Al\\xc3\\xa9m da prova escrita, h\\xc3\\xa1 uma defesa do projeto de pesquisa e uma an\\xc3\\xa1lise do Curr\\xc3\\xadculum Vitae do candidato. O PPGEL disponibiliza as provas anteriores e a expectativa da banca de corre\\xc3\\xa7\\xc3\\xa3o AQUI.\\n\\n \\n\\n', '6. Quantas horas semanais s\\xc3\\xa3o dedicadas \\xc3\\xa0s aulas presenciais?\\n\\nNo primeiro ano de ingresso, o aluno precisa dispensar pelo menos tr\\xc3\\xaas tardes inteiras da semana para as DISCIPLINAS, ministradas preferencialmente \\xc3\\xa0 tarde. No segundo ano, h\\xc3\\xa1 uma maior flexibilidade, a fim de que o aluno intensifique a escrita da disserta\\xc3\\xa7\\xc3\\xa3o. \\xc3\\x89 desej\\xc3\\xa1vel que o aluno participe de atividades de pesquisa e eventos dentro e fora do PPGEL durante todo o per\\xc3\\xadodo do curso.\\n\\n \\n\\n', '7. Posso me candidatar a aluno especial (externo), ou seja, cursar uma disciplina isolada no PPGEL?\\n\\nA figura do aluno especial, aqui denominado de aluno externo, segue crit\\xc3\\xa9rios do regulamento do Programa, tendo uma chamada espec\\xc3\\xadfica, logo ap\\xc3\\xb3s o per\\xc3\\xadodo de matr\\xc3\\xadculas. Em geral, as matr\\xc3\\xadculas para o primeiro semestre ocorrem entre fevereiro e mar\\xc3\\xa7o, e as do segundo semestre entre julho e agosto. Os interessados devem ficar atentos na P\\xc3\\xa1gina Inicial ou acessar a \\xc3\\x81rea Discente.\\n\\n \\n\\n', '8. Posso participar de eventos no PPGEL?\\n\\nOs eventos abertos \\xc3\\xa0 comunidade s\\xc3\\xa3o divulgados AQUI.\\n\\n \\n\\n', '']\n"
     ]
    }
   ],
   "source": []
  },
  {
   "cell_type": "code",
   "execution_count": null,
   "metadata": {},
   "outputs": [],
   "source": []
  }
 ],
 "metadata": {
  "kernelspec": {
   "display_name": "Python 2",
   "language": "python",
   "name": "python2"
  },
  "language_info": {
   "codemirror_mode": {
    "name": "ipython",
    "version": 2
   },
   "file_extension": ".py",
   "mimetype": "text/x-python",
   "name": "python",
   "nbconvert_exporter": "python",
   "pygments_lexer": "ipython2",
   "version": "2.7.15rc1"
  }
 },
 "nbformat": 4,
 "nbformat_minor": 2
}
