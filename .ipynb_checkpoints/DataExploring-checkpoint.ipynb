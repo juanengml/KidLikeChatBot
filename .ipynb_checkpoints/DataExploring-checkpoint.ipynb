{
 "cells": [
  {
   "cell_type": "code",
   "execution_count": 4,
   "metadata": {},
   "outputs": [],
   "source": [
    "import pandas as pd"
   ]
  },
  {
   "cell_type": "code",
   "execution_count": 5,
   "metadata": {},
   "outputs": [
    {
     "data": {
      "text/html": [
       "<div>\n",
       "<style scoped>\n",
       "    .dataframe tbody tr th:only-of-type {\n",
       "        vertical-align: middle;\n",
       "    }\n",
       "\n",
       "    .dataframe tbody tr th {\n",
       "        vertical-align: top;\n",
       "    }\n",
       "\n",
       "    .dataframe thead th {\n",
       "        text-align: right;\n",
       "    }\n",
       "</style>\n",
       "<table border=\"1\" class=\"dataframe\">\n",
       "  <thead>\n",
       "    <tr style=\"text-align: right;\">\n",
       "      <th></th>\n",
       "      <th>conversas</th>\n",
       "    </tr>\n",
       "  </thead>\n",
       "  <tbody>\n",
       "    <tr>\n",
       "      <th>0</th>\n",
       "      <td>jarvis bom dia</td>\n",
       "    </tr>\n",
       "    <tr>\n",
       "      <th>1</th>\n",
       "      <td>bom dia</td>\n",
       "    </tr>\n",
       "    <tr>\n",
       "      <th>2</th>\n",
       "      <td>jarvis boa tarde</td>\n",
       "    </tr>\n",
       "    <tr>\n",
       "      <th>3</th>\n",
       "      <td>boa tarde</td>\n",
       "    </tr>\n",
       "    <tr>\n",
       "      <th>4</th>\n",
       "      <td>jarvis boa noite</td>\n",
       "    </tr>\n",
       "    <tr>\n",
       "      <th>5</th>\n",
       "      <td>boa noite</td>\n",
       "    </tr>\n",
       "    <tr>\n",
       "      <th>6</th>\n",
       "      <td>jarvis está acordado</td>\n",
       "    </tr>\n",
       "    <tr>\n",
       "      <th>7</th>\n",
       "      <td>está acordado</td>\n",
       "    </tr>\n",
       "    <tr>\n",
       "      <th>8</th>\n",
       "      <td>jarvis acordado</td>\n",
       "    </tr>\n",
       "    <tr>\n",
       "      <th>9</th>\n",
       "      <td>acorda</td>\n",
       "    </tr>\n",
       "    <tr>\n",
       "      <th>10</th>\n",
       "      <td>tá acordado</td>\n",
       "    </tr>\n",
       "    <tr>\n",
       "      <th>11</th>\n",
       "      <td>jarvis tá acordado</td>\n",
       "    </tr>\n",
       "    <tr>\n",
       "      <th>12</th>\n",
       "      <td>jarvis você está aí</td>\n",
       "    </tr>\n",
       "    <tr>\n",
       "      <th>13</th>\n",
       "      <td>você está aí</td>\n",
       "    </tr>\n",
       "    <tr>\n",
       "      <th>14</th>\n",
       "      <td>você tá aí</td>\n",
       "    </tr>\n",
       "    <tr>\n",
       "      <th>15</th>\n",
       "      <td>jarvis você tá aí</td>\n",
       "    </tr>\n",
       "    <tr>\n",
       "      <th>16</th>\n",
       "      <td>já está acordado</td>\n",
       "    </tr>\n",
       "    <tr>\n",
       "      <th>17</th>\n",
       "      <td>acordado</td>\n",
       "    </tr>\n",
       "  </tbody>\n",
       "</table>\n",
       "</div>"
      ],
      "text/plain": [
       "               conversas\n",
       "0         jarvis bom dia\n",
       "1                bom dia\n",
       "2       jarvis boa tarde\n",
       "3              boa tarde\n",
       "4       jarvis boa noite\n",
       "5              boa noite\n",
       "6   jarvis está acordado\n",
       "7          está acordado\n",
       "8        jarvis acordado\n",
       "9                 acorda\n",
       "10           tá acordado\n",
       "11    jarvis tá acordado\n",
       "12   jarvis você está aí\n",
       "13          você está aí\n",
       "14            você tá aí\n",
       "15     jarvis você tá aí\n",
       "16      já está acordado\n",
       "17              acordado"
      ]
     },
     "execution_count": 5,
     "metadata": {},
     "output_type": "execute_result"
    }
   ],
   "source": [
    "pd.read_csv(\"dados.csv\")"
   ]
  },
  {
   "cell_type": "code",
   "execution_count": 43,
   "metadata": {},
   "outputs": [],
   "source": [
    "robo = \"\"\"jarvis iniciar sequência de teste no escravo\n",
    "1\tiniciar sequência de teste no escravo\n",
    "2\tjarvis testar garra\n",
    "3\ttestar garra\n",
    "4\tjarvis testar punho\n",
    "5\ttestar punho\n",
    "6\tjarvis testar base\n",
    "7\ttestar base\n",
    "8\tjarvis testar movimentação paralela\n",
    "9\ttestar movimentação paralela\n",
    "10\tjarvis trás\n",
    "11\tjarvis volta\n",
    "12\tjarvis traz pra mim\n",
    "13\ttraz pra mim\n",
    "14\tjarvis volta\n",
    "15\tjarvis inverter polaridade\n",
    "16\tjarvis iniciar sequência de testes no motor dc\n",
    "17\tJarvis Ligar luz\n",
    "18\tLigar luz\n",
    "19\tJarvis Desligar luz\n",
    "20\tDesligar luz\n",
    "21\ttá escuro aqui\n",
    "22\ttá escuro demais aqui\n",
    "23\ttá claro demais aqui\n",
    "24\ttá claro aqui\n",
    "25\ttá calor\n",
    "26\ttá muito calor\n",
    "27\tLigar ventilador\n",
    "28\tDesligar ventilador\n",
    "29\tjarvis ligar ventilador\"\"\"\n"
   ]
  },
  {
   "cell_type": "code",
   "execution_count": 44,
   "metadata": {},
   "outputs": [],
   "source": [
    "sistema = \"\"\"\n",
    "0\tjarvis limpar tela\n",
    "1\tlimpar tela\n",
    "2\tlimpar\n",
    "3\tjarvis organizar arquivos\n",
    "4\torganizar arquivos\n",
    "5\torganizar arquivo\n",
    "6\tjarvis atualizar sistemas\n",
    "7\tatualizar sistemas\n",
    "8\tatualizar sistema\n",
    "9\tjarvis desligar sistemas\n",
    "10\tdesligar sistemas\n",
    "11\tdesliga sistema\n",
    "12\tjarvis reiniciar sistemas\n",
    "13\treiniciar sistemas\n",
    "14\treiniciar sistema\n",
    "15\tjarvis reinicia sistema\n",
    "16\tJarvis Que horas são\n",
    "17\tQue horas são\n",
    "18\tJarvis Que dia é hoje\n",
    "19\tQue dia é hoje\n",
    "20\tjarvis habilitar modo de suporte à vida\n",
    "21\thabilitar modo de suporte à Vida\n",
    "22\tjarvis modo de suporte à vida\n",
    "23\tmodo de suporte à vida\n",
    "24\tjarvis editar aplicação\n",
    "25\teditar aplicação\n",
    "26\tnovo usuário\n",
    "27\tcadastrar\n",
    "28\tcadastrar novo usuário\n",
    "29\tadicionar\n",
    "30\tregistre\"\"\""
   ]
  },
  {
   "cell_type": "code",
   "execution_count": 45,
   "metadata": {},
   "outputs": [],
   "source": [
    "def pre_processing(data):\n",
    " a = data.split(\"\\n\")\n",
    " b = []\n",
    " #print (data)\n",
    " for p in range(len(a)):\n",
    "    #print (a[p])\n",
    "    b.append(\" \".join(a[p].split()[1:]))\n",
    "\n",
    " for p in range(len(b)):\n",
    "    print(b[p])\n"
   ]
  },
  {
   "cell_type": "code",
   "execution_count": 46,
   "metadata": {},
   "outputs": [
    {
     "name": "stdout",
     "output_type": "stream",
     "text": [
      "iniciar sequência de teste no escravo\n",
      "iniciar sequência de teste no escravo\n",
      "jarvis testar garra\n",
      "testar garra\n",
      "jarvis testar punho\n",
      "testar punho\n",
      "jarvis testar base\n",
      "testar base\n",
      "jarvis testar movimentação paralela\n",
      "testar movimentação paralela\n",
      "jarvis trás\n",
      "jarvis volta\n",
      "jarvis traz pra mim\n",
      "traz pra mim\n",
      "jarvis volta\n",
      "jarvis inverter polaridade\n",
      "jarvis iniciar sequência de testes no motor dc\n",
      "Jarvis Ligar luz\n",
      "Ligar luz\n",
      "Jarvis Desligar luz\n",
      "Desligar luz\n",
      "tá escuro aqui\n",
      "tá escuro demais aqui\n",
      "tá claro demais aqui\n",
      "tá claro aqui\n",
      "tá calor\n",
      "tá muito calor\n",
      "Ligar ventilador\n",
      "Desligar ventilador\n",
      "jarvis ligar ventilador\n"
     ]
    }
   ],
   "source": [
    "pre_processing(robo)"
   ]
  },
  {
   "cell_type": "code",
   "execution_count": 47,
   "metadata": {},
   "outputs": [
    {
     "name": "stdout",
     "output_type": "stream",
     "text": [
      "\n",
      "jarvis limpar tela\n",
      "limpar tela\n",
      "limpar\n",
      "jarvis organizar arquivos\n",
      "organizar arquivos\n",
      "organizar arquivo\n",
      "jarvis atualizar sistemas\n",
      "atualizar sistemas\n",
      "atualizar sistema\n",
      "jarvis desligar sistemas\n",
      "desligar sistemas\n",
      "desliga sistema\n",
      "jarvis reiniciar sistemas\n",
      "reiniciar sistemas\n",
      "reiniciar sistema\n",
      "jarvis reinicia sistema\n",
      "Jarvis Que horas são\n",
      "Que horas são\n",
      "Jarvis Que dia é hoje\n",
      "Que dia é hoje\n",
      "jarvis habilitar modo de suporte à vida\n",
      "habilitar modo de suporte à Vida\n",
      "jarvis modo de suporte à vida\n",
      "modo de suporte à vida\n",
      "jarvis editar aplicação\n",
      "editar aplicação\n",
      "novo usuário\n",
      "cadastrar\n",
      "cadastrar novo usuário\n",
      "adicionar\n",
      "registre\n"
     ]
    }
   ],
   "source": [
    "pre_processing(sistema)"
   ]
  },
  {
   "cell_type": "code",
   "execution_count": 41,
   "metadata": {},
   "outputs": [],
   "source": [
    "social = \"\"\"\n",
    "0\tjarvis publique no facebook\n",
    "1\tpublique no facebook\n",
    "2\tjarvis atualize status do facebook diga\n",
    "3\tatualize status do facebook diga\n",
    "4\tdo facebook diga\n",
    "5\tescreva no facebook\n",
    "\"\"\""
   ]
  },
  {
   "cell_type": "code",
   "execution_count": 42,
   "metadata": {},
   "outputs": [
    {
     "name": "stdout",
     "output_type": "stream",
     "text": [
      "\n",
      "jarvis publique no facebook\n",
      "publique no facebook\n",
      "jarvis atualize status do facebook diga\n",
      "atualize status do facebook diga\n",
      "do facebook diga\n",
      "escreva no facebook\n",
      "\n"
     ]
    }
   ],
   "source": [
    "pre_processing(social)"
   ]
  },
  {
   "cell_type": "code",
   "execution_count": 49,
   "metadata": {},
   "outputs": [],
   "source": [
    "tempo = \"\"\"\n",
    "0\thoras\n",
    "1\thora\n",
    "2\tminuto\n",
    "3\tminutos\n",
    "4\tjarvis amanhã\n",
    "5\tme lembre que\n",
    "6\tlembre\n",
    "7\tamanhã\n",
    "8\tjarvis hoje\n",
    "9\tme lembre que\n",
    "10\tlembre\n",
    "\"\"\""
   ]
  },
  {
   "cell_type": "code",
   "execution_count": 50,
   "metadata": {},
   "outputs": [
    {
     "name": "stdout",
     "output_type": "stream",
     "text": [
      "\n",
      "horas\n",
      "hora\n",
      "minuto\n",
      "minutos\n",
      "jarvis amanhã\n",
      "me lembre que\n",
      "lembre\n",
      "amanhã\n",
      "jarvis hoje\n",
      "me lembre que\n",
      "lembre\n",
      "\n"
     ]
    }
   ],
   "source": [
    "pre_processing(tempo)"
   ]
  },
  {
   "cell_type": "code",
   "execution_count": 51,
   "metadata": {},
   "outputs": [],
   "source": [
    "tocar = \"\"\"\n",
    "0\ttocar\n",
    "1\tlista de reprodução\n",
    "2\treprodução\n",
    "\"\"\""
   ]
  },
  {
   "cell_type": "code",
   "execution_count": 52,
   "metadata": {},
   "outputs": [
    {
     "name": "stdout",
     "output_type": "stream",
     "text": [
      "\n",
      "tocar\n",
      "lista de reprodução\n",
      "reprodução\n",
      "\n"
     ]
    }
   ],
   "source": [
    "pre_processing(tocar)"
   ]
  },
  {
   "cell_type": "code",
   "execution_count": 56,
   "metadata": {},
   "outputs": [],
   "source": [
    "zica = [\"Então, segundo nossos filtros \",\"Senhor notificações a serem lidas mestre\",\"Mestre segundo as matrizes temos \",\"Senhor então \",\"Calma vou ler aqui é ja te falo,  pronto, \",\n",
    "   \"Então, segundo nossos filtros, em relação a tecnologia achei que  \",\"Senhor nossos feeds de tecnologia temos\",\"Mestre segundo as matrizes de busca temos \",\"Senhor então \",\"Calma vou ler aqui é ja te falo, pronto, vamos lá, então \"]\n"
   ]
  },
  {
   "cell_type": "code",
   "execution_count": 59,
   "metadata": {},
   "outputs": [
    {
     "name": "stdout",
     "output_type": "stream",
     "text": [
      "Então, segundo nossos filtros \n",
      "Senhor notificações a serem lidas mestre\n",
      "Mestre segundo as matrizes temos \n",
      "Senhor então \n",
      "Calma vou ler aqui é ja te falo,  pronto, \n",
      "Então, segundo nossos filtros, em relação a tecnologia achei que  \n",
      "Senhor nossos feeds de tecnologia temos\n",
      "Mestre segundo as matrizes de busca temos \n",
      "Senhor então \n",
      "Calma vou ler aqui é ja te falo, pronto, vamos lá, então \n"
     ]
    }
   ],
   "source": [
    "for p in zica:\n",
    "    print (p)"
   ]
  },
  {
   "cell_type": "code",
   "execution_count": 60,
   "metadata": {},
   "outputs": [],
   "source": [
    "zica2 = [\"Então, segundo nossos filtros \",\"Senhor notificações a serem lidas mestre\",\"Mestre segundo as matrizes temos \",\"Senhor então \",\"Calma vou ler aqui é ja te falo,  pronto, \",\"Então, segundo nossos filtros, em relação a tecnologia achei que  \",\"Senhor nossos feeds de tecnologia temos\",\"Mestre segundo as matrizes de busca temos \",\"Senhor então \",\"Calma vou ler aqui é ja te falo, pronto, vamos lá, então \"]"
   ]
  },
  {
   "cell_type": "code",
   "execution_count": 62,
   "metadata": {},
   "outputs": [
    {
     "name": "stdout",
     "output_type": "stream",
     "text": [
      "Então, segundo nossos filtros \n",
      "Senhor notificações a serem lidas mestre\n",
      "Mestre segundo as matrizes temos \n",
      "Senhor então \n",
      "Calma vou ler aqui é ja te falo,  pronto, \n",
      "Então, segundo nossos filtros, em relação a tecnologia achei que  \n",
      "Senhor nossos feeds de tecnologia temos\n",
      "Mestre segundo as matrizes de busca temos \n",
      "Senhor então \n",
      "Calma vou ler aqui é ja te falo, pronto, vamos lá, então \n"
     ]
    }
   ],
   "source": [
    "for p in zica2:\n",
    "    print(p) "
   ]
  },
  {
   "cell_type": "code",
   "execution_count": 78,
   "metadata": {},
   "outputs": [
    {
     "ename": "IndentationError",
     "evalue": "unexpected indent (<ipython-input-78-9ee0e878dbd3>, line 10)",
     "output_type": "error",
     "traceback": [
      "\u001b[0;36m  File \u001b[0;32m\"<ipython-input-78-9ee0e878dbd3>\"\u001b[0;36m, line \u001b[0;32m10\u001b[0m\n\u001b[0;31m    \"Quanto tempo não falamos senhor, então o que temos para hoje.\",\"Para o senhor, Sempre\",\"Claro meu senhor, sempre que precisar.\",\"Não, tava dormindo. \",\"Sim senhor,senhor\",\"Claro ,Senhor estou aqui.\",\u001b[0m\n\u001b[0m    ^\u001b[0m\n\u001b[0;31mIndentationError\u001b[0m\u001b[0;31m:\u001b[0m unexpected indent\n"
     ]
    }
   ],
   "source": [
    "zica3 = [\"Subindo clusters do grupo um senhor\",\"Iniciando clusters do grupo um senhor\",\"Iniciando estrutura clusterizada\",\"Primeiro grupo de clusters em fase de inicialização, estabilizando sistema senhor\",\"Protocolo de clusterização em funcionamento, iniciando grupo um senhor\",\n",
    "         \"Subindo clusters do grupo dois senhor\",\"Iniciando clusters do grupo dois senhor\",\"Iniciando estrutura clusterizada\",\"Segundo grupo de clusters em fase de inicialização, estabilizando sistema senhor\",\"Protocolo de clusterização em funcionamento, iniciando grupo dois senhor\",\n",
    "  \"Abrindo navegador senhor .\",\"Subindo navegador mestre\",\"Acessando  navegador cara..\",\"Parametro concluido senhor, navegador aberto \",\n",
    "  \"Abrindo pasta de vídeo Senhor \",\"Subindo pasta de video ,Senhor \",\"pasta de Videos em aberto\",\"Acessando pasta de video senhor.\",\n",
    " \"Abrindo pastas de Imagens Senhor \",\"Subindo diretorio de imagens\",\"Executando condição mestre\",\"Pasta aberta, senhor .\",\n",
    "  \"Atualizando Sistemas ,Senhor Ruan\",\"Gerenciando pacotes de atualização mestre.\",\"Sim senhor\",\"Acessando matrizes de atualizações ,Senhor Ruan\",\n",
    "  \"Desligando Sistemas Senhor Ruan\",\"Senhor estou indo dormir\",\"Desligando matrizes de funcionamento meu lorde \",\"Diretrizes de funcionamento em desligamento senhor\",\n",
    "  \"Reiniciando sistemas senhor\",\"Resetando parametros do sistema \",\"Reinicializando diretrizes senhor\",\"Reiniciando matriz do sistema\",\"reinicializando sistema senhor\",\"Parametros de reinicialização em andamento\",\"Em andamento com a reinicialização senhor\",\"Reiniciando sistemas \",\"reinstituindo paramentros do sistema senhor\",\n",
    "   \"Corrigindo erros do sistema senhor \",\"Matrizes de limpeza de disco em funcionamento, reparando erros do sistema\",\"Localizando erros do sistema\",\"Começando a limpar sistema senhor\"],\n",
    "   \"Quanto tempo não falamos senhor, então o que temos para hoje.\",\"Para o senhor, Sempre\",\"Claro meu senhor, sempre que precisar.\",\"Não, tava dormindo. \",\"Sim senhor,senhor\",\"Claro ,Senhor estou aqui.\",\n",
    "   \"Senhor agora são %s horas e %s minutos \",\"agora são %s horas e %s minutos senhor\",\"São %s hora e %s minutos\",\n",
    "   \"Senhor hoje é dia %s do mês %s\",\"Mestre hoje é dia %s  do mês %s \",\"Hoje é dia %s do mês %s\",\"Então, senhor hoje é dia %s do mês %s\",\n",
    "   \"Abrindo sistema de edição\",\"Abrindo editor padrão \",\"Abrindo sistemas e edição ,senhor\",\n",
    "    \"Pesquisando no google, so um momento mestre, criando lista de links encontrados\",\"Acessando paramentros de pesquisa no google, gerando lista de links\",\"Paramentros de pesquisa em coleta de links, criando lista de links\",\"Gerando links um da pesquisa, lista de links criada, acessando link especifico senhor.\",\n",
    "    \"Alterado em %s por cento\",\"Definido a %s por cento\",\"Modificado a %s por cento senhor\",\n",
    "     'Bom dia ,senhor Juan',\n",
    "     'Bom Tarde ,senhor Juan',\n",
    "     'Boa Noite ,senhor Juan',\n",
    "      \"Publicado senhor \"),\n",
    "    \"Publicado senhor \"),\n",
    "   \"Pronto senhor \" ,\n",
    "  \"Aqui senhor  \" ,\n",
    " \"Aqui senhor  \",\n",
    "\"Pronto senhor  \",\n",
    "\"Autorização valida senhor, bem vindo ao sistema\",\n",
    "\"Credenciais aceitas com sucesso, acesso permitido senhor\",\n",
    "\"Abrindo navegador senhor .\",\"Subindo navegador mestre\",\"Acessando  navegador cara..\",\"Parametro concluido senhor, navegador aberto \",\n",
    "\"Abrindo sistema de edição\",\"Abrindo editor padrão \",\"Abrindo sistemas e edição ,senhor\",\n",
    "\"resetando aplicações senhor\",\n",
    "\"Executando diretrizes, abrindo pasta\",\"Tá, calma que to subindo\",\"Executando condição mestre\",\"Pasta aberta, senhor .\",\"Subindo diretorio ,Senhor\",\"Ta péra, tó subindo.\",\n",
    "\"Abrindo diretorio de %s Senhor \",\"Acessando diretorio de %s\",\"Abrindo pasta de %s,Senhor \",\"Subindo diretorio de %s\",\"Abrindo pasta de %s Senhor \",\"Subindo pasta de %s ,Senhor \",\"pasta de %s em aberto\",\"Acessando pasta de %s senhor.\",\"Acessando Pasta de  %s\"]\n"
   ]
  },
  {
   "cell_type": "code",
   "execution_count": 77,
   "metadata": {},
   "outputs": [
    {
     "name": "stdout",
     "output_type": "stream",
     "text": [
      "2\n",
      "2\n",
      "2\n",
      "2\n",
      "2\n",
      "2\n",
      "2\n",
      "2\n",
      "2\n",
      "2\n",
      "2\n",
      "2\n",
      "2\n",
      "2\n",
      "2\n",
      "2\n",
      "2\n",
      "2\n",
      "2\n",
      "2\n",
      "2\n",
      "2\n",
      "2\n",
      "2\n",
      "2\n",
      "2\n",
      "2\n",
      "2\n",
      "2\n",
      "2\n",
      "2\n",
      "2\n",
      "2\n"
     ]
    }
   ],
   "source": [
    "data = zica3.split(\"\\n\")\n",
    "for p in range(len(data)):\n",
    "    print  len((p,data[p].split(\"=(choice\")))"
   ]
  },
  {
   "cell_type": "code",
   "execution_count": null,
   "metadata": {},
   "outputs": [],
   "source": []
  }
 ],
 "metadata": {
  "kernelspec": {
   "display_name": "Python 3",
   "language": "python",
   "name": "python3"
  },
  "language_info": {
   "codemirror_mode": {
    "name": "ipython",
    "version": 3
   },
   "file_extension": ".py",
   "mimetype": "text/x-python",
   "name": "python",
   "nbconvert_exporter": "python",
   "pygments_lexer": "ipython3",
   "version": "3.6.5"
  }
 },
 "nbformat": 4,
 "nbformat_minor": 2
}
