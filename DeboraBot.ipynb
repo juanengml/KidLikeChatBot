{
 "cells": [
  {
   "cell_type": "code",
   "execution_count": 17,
   "metadata": {},
   "outputs": [],
   "source": [
    "from chatterbot import ChatBot\n",
    "from chatterbot.trainers import ListTrainer"
   ]
  },
  {
   "cell_type": "code",
   "execution_count": 18,
   "metadata": {},
   "outputs": [],
   "source": [
    "chatbot = ChatBot(\"Debora\")"
   ]
  },
  {
   "cell_type": "code",
   "execution_count": 19,
   "metadata": {},
   "outputs": [],
   "source": [
    "chatbot.set_trainer(ListTrainer)"
   ]
  },
  {
   "cell_type": "code",
   "execution_count": 20,
   "metadata": {},
   "outputs": [
    {
     "name": "stdout",
     "output_type": "stream",
     "text": [
      "List Trainer: [####################] 100%\n"
     ]
    }
   ],
   "source": [
    "chatbot.train(\"chatterbot.corpus.Portuguese.greetings_pt-BR\")\n"
   ]
  },
  {
   "cell_type": "code",
   "execution_count": null,
   "metadata": {
    "scrolled": true
   },
   "outputs": [
    {
     "name": "stdout",
     "output_type": "stream",
     "text": [
      "Você: oi\n",
      "Jaime:  tudo bom?\n",
      "Você: sim e vc ? \n",
      "Jaime:  nao entendi\n",
      "Você: q ? \n",
      "Jaime:  evitar gastar energia\n",
      "Você: ta doido ? \n",
      "Jaime:  Sim senhor,senhor\n",
      "Você: gosta de musica ? \n",
      "Jaime:  Qual gênero?\n",
      "Você: metal\n",
      "Jaime:  navegador\n",
      "Você: sim\n",
      "Jaime:  17h\n",
      "Você: qual nome da rosa ? \n",
      "Jaime:  que horas são ?\n",
      "Você: que ? \n",
      "Jaime:  evitar gastar energia\n",
      "Você: gosta de musica  \n",
      "Jaime:  sim\n",
      "Você: qual gênero ? \n",
      "Jaime:  Rock\n",
      "Você: qual e o nome da rosa ? \n",
      "Jaime:  que horas são ?\n",
      "Você: 18 horas 42 minutos\n",
      "Jaime:  Senhor hoje é dia do mês\n",
      "Você: nao entendi\n",
      "Jaime:  que escrevo?\n",
      "Você: nao entendi\n",
      "Jaime:  que escrevo?\n",
      "Você: nao sei\n",
      "Jaime:  que escrevo?\n",
      "Você: nao sei\n",
      "Jaime:  que escrevo?\n",
      "Você: nao sei\n",
      "Jaime:  que escrevo?\n",
      "Você: nao sei [=\n",
      "Jaime:  que escrevo?\n",
      "Você: o que ?\n",
      "Jaime:  evitar gastar energia\n",
      "Você: sim\n",
      "Jaime:  17h\n",
      "Você: nao\n",
      "Jaime:  Olá\n",
      "Você: oi\n",
      "Jaime:  tudo bom?\n",
      "Você: sim e você\n",
      "Jaime:  nao entendi\n",
      "Você: estou bem e você?\n",
      "Jaime:  nao entendi\n",
      "Você: tudo bem?\n",
      "Jaime:  tudo bom sim e voçê ?\n",
      "Você: tudo bom \n",
      "Jaime:  tudo bom sim e voçê ?\n",
      "Você: sim\n",
      "Jaime:  17h\n",
      "Você: que horas são?\n",
      "Jaime:  que horas são ?\n"
     ]
    }
   ],
   "source": [
    "while True:\n",
    "    quest = input(\"Você: \")\n",
    "    response = chatbot.get_response(quest)\n",
    "    if float(response.confidence) > 0.5:\n",
    "       print(\"Jaime: \", response)\n",
    "    else:\n",
    "        print(\"Jaime: Não entendi\")\n",
    "    "
   ]
  },
  {
   "cell_type": "code",
   "execution_count": null,
   "metadata": {},
   "outputs": [],
   "source": []
  }
 ],
 "metadata": {
  "kernelspec": {
   "display_name": "Python 3",
   "language": "python",
   "name": "python3"
  },
  "language_info": {
   "codemirror_mode": {
    "name": "ipython",
    "version": 3
   },
   "file_extension": ".py",
   "mimetype": "text/x-python",
   "name": "python",
   "nbconvert_exporter": "python",
   "pygments_lexer": "ipython3",
   "version": "3.6.5"
  }
 },
 "nbformat": 4,
 "nbformat_minor": 2
}
